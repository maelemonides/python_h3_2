{
  "nbformat": 4,
  "nbformat_minor": 0,
  "metadata": {
    "colab": {
      "provenance": [],
      "authorship_tag": "ABX9TyN3/r1Wkd6pTqCY9keSBxdL",
      "include_colab_link": true
    },
    "kernelspec": {
      "name": "python3",
      "display_name": "Python 3"
    },
    "language_info": {
      "name": "python"
    }
  },
  "cells": [
    {
      "cell_type": "markdown",
      "metadata": {
        "id": "view-in-github",
        "colab_type": "text"
      },
      "source": [
        "<a href=\"https://colab.research.google.com/github/maelemonides/python_h3_2/blob/main/exercices.ipynb\" target=\"_parent\"><img src=\"https://colab.research.google.com/assets/colab-badge.svg\" alt=\"Open In Colab\"/></a>"
      ]
    },
    {
      "cell_type": "code",
      "execution_count": null,
      "metadata": {
        "colab": {
          "base_uri": "https://localhost:8080/"
        },
        "id": "K_XT3I4vzAvq",
        "outputId": "8c761348-bce4-41ed-c7fb-8a8631f74759"
      },
      "outputs": [
        {
          "output_type": "stream",
          "name": "stdout",
          "text": [
            "[1, 4, 9, 16, 25, 36, 49, 64, 81]\n"
          ]
        }
      ],
      "source": [
        "#carré\n",
        "def carre(l):\n",
        "  m = []\n",
        "  for i in l:\n",
        "    m.append(i**2)\n",
        "  return(m)\n",
        "\n",
        "l =[1,2,3,4,5,6,7,8,9]\n",
        "\n",
        "p = carre(l)\n",
        "\n",
        "print (p)"
      ]
    },
    {
      "cell_type": "code",
      "source": [
        "#polynome\n",
        "import math\n",
        "def polynome (a,b,c):\n",
        "  delta = b**2 - 4 * a * c\n",
        "  print (delta)\n",
        "  if delta > 0:\n",
        "    racine_1 = (- b - math.sqrt(delta))/ (2 * a)\n",
        "    racine_2 = (- b + math.sqrt(delta))/ (2 * a)\n",
        "    print (racine_1, racine_2)\n",
        "  elif delta == 0:\n",
        "    print (-b/2*a)\n",
        "  else:\n",
        "    print(\"pas de racine\")\n",
        "  \n",
        "\n",
        "polynome(3,5,2)\n",
        "\n"
      ],
      "metadata": {
        "colab": {
          "base_uri": "https://localhost:8080/"
        },
        "id": "WDQ7alHI0oFf",
        "outputId": "45cefffe-9516-4ca4-8999-03818fd41dba"
      },
      "execution_count": null,
      "outputs": [
        {
          "output_type": "stream",
          "name": "stdout",
          "text": [
            "1\n",
            "-1.0 -0.6666666666666666\n"
          ]
        }
      ]
    },
    {
      "cell_type": "code",
      "source": [
        "def maxNAdj(l):\n",
        "  if not len(l):\n",
        "    return 0\n",
        "  else:\n",
        "    ms=[]\n",
        "    ms.append(l[0])\n",
        "    ms.append(max(l[0:2]))\n",
        "    for i in range(2, len(l)):\n",
        "      ms.append(max(ms[i-1], l[i]+ms[i-2]))\n",
        "  return max(ms)\n",
        "\n",
        "l = [1, 800, 2, 3, 4, 5]\n",
        "\n",
        "maxNAdj(l)"
      ],
      "metadata": {
        "colab": {
          "base_uri": "https://localhost:8080/"
        },
        "id": "C7ABKEIH5fRd",
        "outputId": "b14fdae3-804c-40e5-af6c-bfd1346011d4"
      },
      "execution_count": null,
      "outputs": [
        {
          "output_type": "execute_result",
          "data": {
            "text/plain": [
              "808"
            ]
          },
          "metadata": {},
          "execution_count": 18
        }
      ]
    },
    {
      "cell_type": "code",
      "source": [
        "def LD(s, t):\n",
        "    if s == \"\":\n",
        "        return len(t)\n",
        "    if t == \"\":\n",
        "        return len(s)\n",
        "    if s[-1] == t[-1]:\n",
        "        cost = 0\n",
        "    else:\n",
        "        cost = 1\n",
        "    res = min([LD(s[:-1], t)+1,\n",
        "               LD(s, t[:-1])+1, \n",
        "               LD(s[:-1], t[:-1]) + cost])\n",
        "    return res\n",
        "\n",
        "str1 = 'Python'\n",
        "str2 = 'Peithen'\n",
        "\n",
        "LD(str1, str2)"
      ],
      "metadata": {
        "colab": {
          "base_uri": "https://localhost:8080/"
        },
        "id": "319wsAuTNckt",
        "outputId": "5c014603-2b35-4d0d-a01d-c39b7fc0cdd8"
      },
      "execution_count": null,
      "outputs": [
        {
          "output_type": "execute_result",
          "data": {
            "text/plain": [
              "3"
            ]
          },
          "metadata": {},
          "execution_count": 22
        }
      ]
    }
  ]
}